{
 "cells": [
  {
   "cell_type": "code",
   "execution_count": 1,
   "id": "cfe83066",
   "metadata": {},
   "outputs": [],
   "source": [
    "import random\n",
    "import pandas as pd\n",
    "import numpy as np\n",
    "import phonenumbers\n",
    "from phonenumbers import geocoder\n",
    "from phonenumbers.timezone import time_zones_for_number\n",
    "from faker import Faker\n",
    "import us"
   ]
  },
  {
   "cell_type": "code",
   "execution_count": 2,
   "id": "f509b37f",
   "metadata": {},
   "outputs": [
    {
     "name": "stdout",
     "output_type": "stream",
     "text": [
      "Requirement already satisfied: us in /home/batman/anaconda3/lib/python3.7/site-packages (2.0.2)\n",
      "Requirement already satisfied: jellyfish==0.6.1 in /home/batman/anaconda3/lib/python3.7/site-packages (from us) (0.6.1)\n"
     ]
    }
   ],
   "source": [
    "!pip install us"
   ]
  },
  {
   "cell_type": "code",
   "execution_count": 3,
   "id": "51df2594",
   "metadata": {},
   "outputs": [],
   "source": [
    "df = pd.read_csv(\"existingDataTest.csv\")\n",
    "tzs_df = pd.read_csv(\"tzmapping.csv\")\n",
    "tzs_df.index = tzs_df['State'] # important\n",
    "pd.set_option('display.float_format', lambda x: '%.0f' % x)\n",
    "df.drop('time zone', axis=1, inplace=True)"
   ]
  },
  {
   "cell_type": "code",
   "execution_count": 4,
   "id": "d9422d22",
   "metadata": {},
   "outputs": [
    {
     "data": {
      "text/html": [
       "<div>\n",
       "<style scoped>\n",
       "    .dataframe tbody tr th:only-of-type {\n",
       "        vertical-align: middle;\n",
       "    }\n",
       "\n",
       "    .dataframe tbody tr th {\n",
       "        vertical-align: top;\n",
       "    }\n",
       "\n",
       "    .dataframe thead th {\n",
       "        text-align: right;\n",
       "    }\n",
       "</style>\n",
       "<table border=\"1\" class=\"dataframe\">\n",
       "  <thead>\n",
       "    <tr style=\"text-align: right;\">\n",
       "      <th></th>\n",
       "      <th>Phone Number</th>\n",
       "      <th>call time</th>\n",
       "    </tr>\n",
       "  </thead>\n",
       "  <tbody>\n",
       "    <tr>\n",
       "      <th>0</th>\n",
       "      <td>16692419870</td>\n",
       "      <td>8 am to 11 am</td>\n",
       "    </tr>\n",
       "    <tr>\n",
       "      <th>1</th>\n",
       "      <td>16617480240</td>\n",
       "      <td>11 am to 3 pm</td>\n",
       "    </tr>\n",
       "    <tr>\n",
       "      <th>2</th>\n",
       "      <td>19254836857</td>\n",
       "      <td>11 am to 3 pm</td>\n",
       "    </tr>\n",
       "    <tr>\n",
       "      <th>3</th>\n",
       "      <td>19259147169</td>\n",
       "      <td>11 am to 3 pm</td>\n",
       "    </tr>\n",
       "    <tr>\n",
       "      <th>4</th>\n",
       "      <td>16613738068</td>\n",
       "      <td>11 am to 3 pm</td>\n",
       "    </tr>\n",
       "  </tbody>\n",
       "</table>\n",
       "</div>"
      ],
      "text/plain": [
       "   Phone Number      call time\n",
       "0   16692419870  8 am to 11 am\n",
       "1   16617480240  11 am to 3 pm\n",
       "2   19254836857  11 am to 3 pm\n",
       "3   19259147169  11 am to 3 pm\n",
       "4   16613738068  11 am to 3 pm"
      ]
     },
     "execution_count": 4,
     "metadata": {},
     "output_type": "execute_result"
    }
   ],
   "source": [
    "df.head()"
   ]
  },
  {
   "cell_type": "code",
   "execution_count": 5,
   "id": "34ded2cb",
   "metadata": {},
   "outputs": [],
   "source": [
    "nums = df['Phone Number']"
   ]
  },
  {
   "cell_type": "code",
   "execution_count": 6,
   "id": "aae060c4",
   "metadata": {},
   "outputs": [
    {
     "data": {
      "text/html": [
       "<div>\n",
       "<style scoped>\n",
       "    .dataframe tbody tr th:only-of-type {\n",
       "        vertical-align: middle;\n",
       "    }\n",
       "\n",
       "    .dataframe tbody tr th {\n",
       "        vertical-align: top;\n",
       "    }\n",
       "\n",
       "    .dataframe thead th {\n",
       "        text-align: right;\n",
       "    }\n",
       "</style>\n",
       "<table border=\"1\" class=\"dataframe\">\n",
       "  <thead>\n",
       "    <tr style=\"text-align: right;\">\n",
       "      <th></th>\n",
       "      <th>State</th>\n",
       "      <th>Zone</th>\n",
       "    </tr>\n",
       "    <tr>\n",
       "      <th>State</th>\n",
       "      <th></th>\n",
       "      <th></th>\n",
       "    </tr>\n",
       "  </thead>\n",
       "  <tbody>\n",
       "    <tr>\n",
       "      <th>Alabama</th>\n",
       "      <td>Alabama</td>\n",
       "      <td>Central Time Zone</td>\n",
       "    </tr>\n",
       "    <tr>\n",
       "      <th>Alaska</th>\n",
       "      <td>Alaska</td>\n",
       "      <td>Alaska Time Zone, Hawaii-Aleutian Time Zone</td>\n",
       "    </tr>\n",
       "    <tr>\n",
       "      <th>Arizona</th>\n",
       "      <td>Arizona</td>\n",
       "      <td>Mountain Time Zone</td>\n",
       "    </tr>\n",
       "    <tr>\n",
       "      <th>Arkansas</th>\n",
       "      <td>Arkansas</td>\n",
       "      <td>Central Time Zone</td>\n",
       "    </tr>\n",
       "    <tr>\n",
       "      <th>California</th>\n",
       "      <td>California</td>\n",
       "      <td>Pacific Time Zone</td>\n",
       "    </tr>\n",
       "  </tbody>\n",
       "</table>\n",
       "</div>"
      ],
      "text/plain": [
       "                 State                                         Zone\n",
       "State                                                              \n",
       "Alabama        Alabama                            Central Time Zone\n",
       "Alaska          Alaska  Alaska Time Zone, Hawaii-Aleutian Time Zone\n",
       "Arizona        Arizona                           Mountain Time Zone\n",
       "Arkansas      Arkansas                            Central Time Zone\n",
       "California  California                            Pacific Time Zone"
      ]
     },
     "execution_count": 6,
     "metadata": {},
     "output_type": "execute_result"
    }
   ],
   "source": [
    "tzs_df.head()"
   ]
  },
  {
   "cell_type": "code",
   "execution_count": 7,
   "id": "32052bb3",
   "metadata": {},
   "outputs": [],
   "source": [
    "# tzs_df.index = tzs_df['State']\n",
    "# tzs_df.loc[\"California\"]"
   ]
  },
  {
   "cell_type": "code",
   "execution_count": 8,
   "id": "1ca1c847",
   "metadata": {},
   "outputs": [
    {
     "data": {
      "text/html": [
       "<div>\n",
       "<style scoped>\n",
       "    .dataframe tbody tr th:only-of-type {\n",
       "        vertical-align: middle;\n",
       "    }\n",
       "\n",
       "    .dataframe tbody tr th {\n",
       "        vertical-align: top;\n",
       "    }\n",
       "\n",
       "    .dataframe thead th {\n",
       "        text-align: right;\n",
       "    }\n",
       "</style>\n",
       "<table border=\"1\" class=\"dataframe\">\n",
       "  <thead>\n",
       "    <tr style=\"text-align: right;\">\n",
       "      <th></th>\n",
       "      <th>State</th>\n",
       "      <th>Zone</th>\n",
       "    </tr>\n",
       "    <tr>\n",
       "      <th>State</th>\n",
       "      <th></th>\n",
       "      <th></th>\n",
       "    </tr>\n",
       "  </thead>\n",
       "  <tbody>\n",
       "    <tr>\n",
       "      <th>Alabama</th>\n",
       "      <td>Alabama</td>\n",
       "      <td>Central Time Zone</td>\n",
       "    </tr>\n",
       "    <tr>\n",
       "      <th>Alaska</th>\n",
       "      <td>Alaska</td>\n",
       "      <td>Alaska Time Zone, Hawaii-Aleutian Time Zone</td>\n",
       "    </tr>\n",
       "    <tr>\n",
       "      <th>Arizona</th>\n",
       "      <td>Arizona</td>\n",
       "      <td>Mountain Time Zone</td>\n",
       "    </tr>\n",
       "    <tr>\n",
       "      <th>Arkansas</th>\n",
       "      <td>Arkansas</td>\n",
       "      <td>Central Time Zone</td>\n",
       "    </tr>\n",
       "    <tr>\n",
       "      <th>California</th>\n",
       "      <td>California</td>\n",
       "      <td>Pacific Time Zone</td>\n",
       "    </tr>\n",
       "  </tbody>\n",
       "</table>\n",
       "</div>"
      ],
      "text/plain": [
       "                 State                                         Zone\n",
       "State                                                              \n",
       "Alabama        Alabama                            Central Time Zone\n",
       "Alaska          Alaska  Alaska Time Zone, Hawaii-Aleutian Time Zone\n",
       "Arizona        Arizona                           Mountain Time Zone\n",
       "Arkansas      Arkansas                            Central Time Zone\n",
       "California  California                            Pacific Time Zone"
      ]
     },
     "execution_count": 8,
     "metadata": {},
     "output_type": "execute_result"
    }
   ],
   "source": [
    "tzs_df.head()"
   ]
  },
  {
   "cell_type": "code",
   "execution_count": 9,
   "id": "71ce2491",
   "metadata": {},
   "outputs": [
    {
     "data": {
      "text/html": [
       "<div>\n",
       "<style scoped>\n",
       "    .dataframe tbody tr th:only-of-type {\n",
       "        vertical-align: middle;\n",
       "    }\n",
       "\n",
       "    .dataframe tbody tr th {\n",
       "        vertical-align: top;\n",
       "    }\n",
       "\n",
       "    .dataframe thead th {\n",
       "        text-align: right;\n",
       "    }\n",
       "</style>\n",
       "<table border=\"1\" class=\"dataframe\">\n",
       "  <thead>\n",
       "    <tr style=\"text-align: right;\">\n",
       "      <th></th>\n",
       "      <th>Phone Number</th>\n",
       "      <th>call time</th>\n",
       "      <th>State</th>\n",
       "      <th>TZ</th>\n",
       "    </tr>\n",
       "  </thead>\n",
       "  <tbody>\n",
       "    <tr>\n",
       "      <th>0</th>\n",
       "      <td>16692419870</td>\n",
       "      <td>8 am to 11 am</td>\n",
       "      <td>California</td>\n",
       "      <td>Pacific Time Zone</td>\n",
       "    </tr>\n",
       "    <tr>\n",
       "      <th>1</th>\n",
       "      <td>16617480240</td>\n",
       "      <td>11 am to 3 pm</td>\n",
       "      <td>California</td>\n",
       "      <td>Pacific Time Zone</td>\n",
       "    </tr>\n",
       "    <tr>\n",
       "      <th>2</th>\n",
       "      <td>19254836857</td>\n",
       "      <td>11 am to 3 pm</td>\n",
       "      <td>California</td>\n",
       "      <td>Pacific Time Zone</td>\n",
       "    </tr>\n",
       "    <tr>\n",
       "      <th>3</th>\n",
       "      <td>19259147169</td>\n",
       "      <td>11 am to 3 pm</td>\n",
       "      <td>California</td>\n",
       "      <td>Pacific Time Zone</td>\n",
       "    </tr>\n",
       "    <tr>\n",
       "      <th>4</th>\n",
       "      <td>16613738068</td>\n",
       "      <td>11 am to 3 pm</td>\n",
       "      <td>California</td>\n",
       "      <td>Pacific Time Zone</td>\n",
       "    </tr>\n",
       "    <tr>\n",
       "      <th>5</th>\n",
       "      <td>17255771073</td>\n",
       "      <td>11 am to 3 pm</td>\n",
       "      <td>Nevada</td>\n",
       "      <td>Pacific Time Zone, Mountain Time Zone</td>\n",
       "    </tr>\n",
       "    <tr>\n",
       "      <th>6</th>\n",
       "      <td>14089135070</td>\n",
       "      <td>3 pm to 7 pm</td>\n",
       "      <td>California</td>\n",
       "      <td>Pacific Time Zone</td>\n",
       "    </tr>\n",
       "    <tr>\n",
       "      <th>7</th>\n",
       "      <td>14436533745</td>\n",
       "      <td>11 am to 3 pm</td>\n",
       "      <td>Maryland</td>\n",
       "      <td>Eastern Time Zone</td>\n",
       "    </tr>\n",
       "    <tr>\n",
       "      <th>8</th>\n",
       "      <td>16509245156</td>\n",
       "      <td>11 am to 3 pm</td>\n",
       "      <td>California</td>\n",
       "      <td>Pacific Time Zone</td>\n",
       "    </tr>\n",
       "    <tr>\n",
       "      <th>9</th>\n",
       "      <td>15127016862</td>\n",
       "      <td>11 am to 3 pm</td>\n",
       "      <td>Texas</td>\n",
       "      <td>Central Time Zone, Mountain Time Zone</td>\n",
       "    </tr>\n",
       "  </tbody>\n",
       "</table>\n",
       "</div>"
      ],
      "text/plain": [
       "   Phone Number      call time       State  \\\n",
       "0   16692419870  8 am to 11 am  California   \n",
       "1   16617480240  11 am to 3 pm  California   \n",
       "2   19254836857  11 am to 3 pm  California   \n",
       "3   19259147169  11 am to 3 pm  California   \n",
       "4   16613738068  11 am to 3 pm  California   \n",
       "5   17255771073  11 am to 3 pm      Nevada   \n",
       "6   14089135070   3 pm to 7 pm  California   \n",
       "7   14436533745  11 am to 3 pm    Maryland   \n",
       "8   16509245156  11 am to 3 pm  California   \n",
       "9   15127016862  11 am to 3 pm       Texas   \n",
       "\n",
       "                                      TZ  \n",
       "0                      Pacific Time Zone  \n",
       "1                      Pacific Time Zone  \n",
       "2                      Pacific Time Zone  \n",
       "3                      Pacific Time Zone  \n",
       "4                      Pacific Time Zone  \n",
       "5  Pacific Time Zone, Mountain Time Zone  \n",
       "6                      Pacific Time Zone  \n",
       "7                      Eastern Time Zone  \n",
       "8                      Pacific Time Zone  \n",
       "9  Central Time Zone, Mountain Time Zone  "
      ]
     },
     "execution_count": 9,
     "metadata": {},
     "output_type": "execute_result"
    }
   ],
   "source": [
    "tzs = []\n",
    "states = []\n",
    "for num in nums:\n",
    "    fmtNum = phonenumbers.parse(\"+\" + str(num))\n",
    "    state = geocoder.description_for_number(fmtNum,'en')\n",
    "    states.append(state)\n",
    "    tz = tzs_df.loc[state]['Zone']\n",
    "    tzs.append(tz)\n",
    "    \n",
    "df['State'] = states\n",
    "df['TZ'] = tzs\n",
    "df.head(10)"
   ]
  },
  {
   "cell_type": "code",
   "execution_count": 10,
   "id": "857eaae0",
   "metadata": {},
   "outputs": [],
   "source": [
    "####"
   ]
  },
  {
   "cell_type": "code",
   "execution_count": 11,
   "id": "aa5b6065",
   "metadata": {},
   "outputs": [],
   "source": [
    "grouped = df.groupby([\"TZ\",\"call time\"]).sum()"
   ]
  },
  {
   "cell_type": "code",
   "execution_count": 12,
   "id": "bd518474",
   "metadata": {},
   "outputs": [
    {
     "data": {
      "text/html": [
       "<div>\n",
       "<style scoped>\n",
       "    .dataframe tbody tr th:only-of-type {\n",
       "        vertical-align: middle;\n",
       "    }\n",
       "\n",
       "    .dataframe tbody tr th {\n",
       "        vertical-align: top;\n",
       "    }\n",
       "\n",
       "    .dataframe thead th {\n",
       "        text-align: right;\n",
       "    }\n",
       "</style>\n",
       "<table border=\"1\" class=\"dataframe\">\n",
       "  <thead>\n",
       "    <tr style=\"text-align: right;\">\n",
       "      <th></th>\n",
       "      <th></th>\n",
       "      <th>Phone Number</th>\n",
       "    </tr>\n",
       "    <tr>\n",
       "      <th>TZ</th>\n",
       "      <th>call time</th>\n",
       "      <th></th>\n",
       "    </tr>\n",
       "  </thead>\n",
       "  <tbody>\n",
       "    <tr>\n",
       "      <th>Central Time Zone, Mountain Time Zone</th>\n",
       "      <th>11 am to 3 pm</th>\n",
       "      <td>15127016862</td>\n",
       "    </tr>\n",
       "    <tr>\n",
       "      <th rowspan=\"2\" valign=\"top\">Eastern Time Zone</th>\n",
       "      <th>11 am to 3 pm</th>\n",
       "      <td>14436533745</td>\n",
       "    </tr>\n",
       "    <tr>\n",
       "      <th>3 pm to 7 pm</th>\n",
       "      <td>32752536259</td>\n",
       "    </tr>\n",
       "    <tr>\n",
       "      <th rowspan=\"3\" valign=\"top\">Pacific Time Zone</th>\n",
       "      <th>11 am to 3 pm</th>\n",
       "      <td>88254447490</td>\n",
       "    </tr>\n",
       "    <tr>\n",
       "      <th>3 pm to 7 pm</th>\n",
       "      <td>33347744863</td>\n",
       "    </tr>\n",
       "    <tr>\n",
       "      <th>8 am to 11 am</th>\n",
       "      <td>16692419870</td>\n",
       "    </tr>\n",
       "    <tr>\n",
       "      <th>Pacific Time Zone, Mountain Time Zone</th>\n",
       "      <th>11 am to 3 pm</th>\n",
       "      <td>17255771073</td>\n",
       "    </tr>\n",
       "  </tbody>\n",
       "</table>\n",
       "</div>"
      ],
      "text/plain": [
       "                                                     Phone Number\n",
       "TZ                                    call time                  \n",
       "Central Time Zone, Mountain Time Zone 11 am to 3 pm   15127016862\n",
       "Eastern Time Zone                     11 am to 3 pm   14436533745\n",
       "                                      3 pm to 7 pm    32752536259\n",
       "Pacific Time Zone                     11 am to 3 pm   88254447490\n",
       "                                      3 pm to 7 pm    33347744863\n",
       "                                      8 am to 11 am   16692419870\n",
       "Pacific Time Zone, Mountain Time Zone 11 am to 3 pm   17255771073"
      ]
     },
     "execution_count": 12,
     "metadata": {},
     "output_type": "execute_result"
    }
   ],
   "source": [
    "grouped"
   ]
  },
  {
   "cell_type": "code",
   "execution_count": 13,
   "id": "8ce917a0",
   "metadata": {},
   "outputs": [
    {
     "data": {
      "text/html": [
       "<div>\n",
       "<style scoped>\n",
       "    .dataframe tbody tr th:only-of-type {\n",
       "        vertical-align: middle;\n",
       "    }\n",
       "\n",
       "    .dataframe tbody tr th {\n",
       "        vertical-align: top;\n",
       "    }\n",
       "\n",
       "    .dataframe thead th {\n",
       "        text-align: right;\n",
       "    }\n",
       "</style>\n",
       "<table border=\"1\" class=\"dataframe\">\n",
       "  <thead>\n",
       "    <tr style=\"text-align: right;\">\n",
       "      <th></th>\n",
       "      <th>Phone Number</th>\n",
       "    </tr>\n",
       "    <tr>\n",
       "      <th>call time</th>\n",
       "      <th></th>\n",
       "    </tr>\n",
       "  </thead>\n",
       "  <tbody>\n",
       "    <tr>\n",
       "      <th>11 am to 3 pm</th>\n",
       "      <td>88254447490</td>\n",
       "    </tr>\n",
       "    <tr>\n",
       "      <th>3 pm to 7 pm</th>\n",
       "      <td>33347744863</td>\n",
       "    </tr>\n",
       "    <tr>\n",
       "      <th>8 am to 11 am</th>\n",
       "      <td>16692419870</td>\n",
       "    </tr>\n",
       "  </tbody>\n",
       "</table>\n",
       "</div>"
      ],
      "text/plain": [
       "               Phone Number\n",
       "call time                  \n",
       "11 am to 3 pm   88254447490\n",
       "3 pm to 7 pm    33347744863\n",
       "8 am to 11 am   16692419870"
      ]
     },
     "execution_count": 13,
     "metadata": {},
     "output_type": "execute_result"
    }
   ],
   "source": [
    "grouped.loc['Pacific Time Zone']"
   ]
  },
  {
   "cell_type": "code",
   "execution_count": 14,
   "id": "dacad330",
   "metadata": {},
   "outputs": [
    {
     "data": {
      "text/plain": [
       "Phone Number    88254447490\n",
       "Name: 11 am to 3 pm, dtype: int64"
      ]
     },
     "execution_count": 14,
     "metadata": {},
     "output_type": "execute_result"
    }
   ],
   "source": [
    "grouped.loc['Pacific Time Zone'].loc['11 am to 3 pm']"
   ]
  },
  {
   "cell_type": "code",
   "execution_count": null,
   "id": "a61d9e1c",
   "metadata": {},
   "outputs": [],
   "source": []
  }
 ],
 "metadata": {
  "kernelspec": {
   "display_name": "Python 3",
   "language": "python",
   "name": "python3"
  },
  "language_info": {
   "codemirror_mode": {
    "name": "ipython",
    "version": 3
   },
   "file_extension": ".py",
   "mimetype": "text/x-python",
   "name": "python",
   "nbconvert_exporter": "python",
   "pygments_lexer": "ipython3",
   "version": "3.7.4"
  }
 },
 "nbformat": 4,
 "nbformat_minor": 5
}
