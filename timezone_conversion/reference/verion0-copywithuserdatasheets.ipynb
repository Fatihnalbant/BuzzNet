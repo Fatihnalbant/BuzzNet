{
 "cells": [
  {
   "cell_type": "code",
   "execution_count": 210,
   "id": "cfe83066",
   "metadata": {},
   "outputs": [],
   "source": [
    "import random\n",
    "import pandas as pd\n",
    "import numpy as np\n",
    "import phonenumbers\n",
    "from phonenumbers import geocoder\n",
    "from phonenumbers.timezone import time_zones_for_number\n",
    "from faker import Faker\n",
    "import us\n",
    "from datetime import datetime"
   ]
  },
  {
   "cell_type": "code",
   "execution_count": 211,
   "id": "f509b37f",
   "metadata": {},
   "outputs": [
    {
     "name": "stdout",
     "output_type": "stream",
     "text": [
      "Requirement already satisfied: us in /home/batman/anaconda3/lib/python3.7/site-packages (2.0.2)\r\n",
      "Requirement already satisfied: jellyfish==0.6.1 in /home/batman/anaconda3/lib/python3.7/site-packages (from us) (0.6.1)\r\n"
     ]
    }
   ],
   "source": [
    "!pip install us"
   ]
  },
  {
   "cell_type": "code",
   "execution_count": 212,
   "id": "51df2594",
   "metadata": {},
   "outputs": [],
   "source": [
    "#df = pd.read_csv(\"goanddo - time.csv\")\n",
    "df = pd.read_csv(\"users_test.csv\")\n",
    "tzs_df = pd.read_csv(\"tzmapping.csv\")\n",
    "tzs_df.index = tzs_df['State'] # important\n",
    "pd.set_option('display.float_format', lambda x: '%.0f' % x)\n",
    "#df.drop('time zone', axis=1, inplace=True)\n",
    "df.rename(columns={'Unnamed: 0': 'Username', 'Unnamed: 4' : 'Number'}, inplace=True)\n"
   ]
  },
  {
   "cell_type": "code",
   "execution_count": 213,
   "id": "da1be642",
   "metadata": {},
   "outputs": [
    {
     "data": {
      "text/html": [
       "<div>\n",
       "<style scoped>\n",
       "    .dataframe tbody tr th:only-of-type {\n",
       "        vertical-align: middle;\n",
       "    }\n",
       "\n",
       "    .dataframe tbody tr th {\n",
       "        vertical-align: top;\n",
       "    }\n",
       "\n",
       "    .dataframe thead th {\n",
       "        text-align: right;\n",
       "    }\n",
       "</style>\n",
       "<table border=\"1\" class=\"dataframe\">\n",
       "  <thead>\n",
       "    <tr style=\"text-align: right;\">\n",
       "      <th></th>\n",
       "      <th>Username</th>\n",
       "      <th>time zone</th>\n",
       "      <th>UTC start</th>\n",
       "      <th>UTC end</th>\n",
       "      <th>Number</th>\n",
       "    </tr>\n",
       "  </thead>\n",
       "  <tbody>\n",
       "    <tr>\n",
       "      <th>0</th>\n",
       "      <td>Bob</td>\n",
       "      <td>US/Pacific</td>\n",
       "      <td>11:00:00</td>\n",
       "      <td>12:00:00</td>\n",
       "      <td>19254836857</td>\n",
       "    </tr>\n",
       "    <tr>\n",
       "      <th>1</th>\n",
       "      <td>John</td>\n",
       "      <td>US/Pacific</td>\n",
       "      <td>16:00:00</td>\n",
       "      <td>22:00:00</td>\n",
       "      <td>19253393908</td>\n",
       "    </tr>\n",
       "    <tr>\n",
       "      <th>2</th>\n",
       "      <td>Daniel</td>\n",
       "      <td>US/Pacific</td>\n",
       "      <td>10:00:00</td>\n",
       "      <td>23:00:00</td>\n",
       "      <td>19258609793</td>\n",
       "    </tr>\n",
       "    <tr>\n",
       "      <th>3</th>\n",
       "      <td>Kelly</td>\n",
       "      <td>US/Eastern</td>\n",
       "      <td>14:00:00</td>\n",
       "      <td>16:00:00</td>\n",
       "      <td>16613738068</td>\n",
       "    </tr>\n",
       "  </tbody>\n",
       "</table>\n",
       "</div>"
      ],
      "text/plain": [
       "  Username   time zone UTC start   UTC end       Number\n",
       "0      Bob  US/Pacific  11:00:00  12:00:00  19254836857\n",
       "1     John  US/Pacific  16:00:00  22:00:00  19253393908\n",
       "2   Daniel  US/Pacific  10:00:00  23:00:00  19258609793\n",
       "3    Kelly  US/Eastern  14:00:00  16:00:00  16613738068"
      ]
     },
     "execution_count": 213,
     "metadata": {},
     "output_type": "execute_result"
    }
   ],
   "source": [
    "df.head()"
   ]
  },
  {
   "cell_type": "code",
   "execution_count": 214,
   "id": "c55f749e",
   "metadata": {},
   "outputs": [],
   "source": [
    "df[[\"DT Start\"]] = df[[\"UTC start\"]].apply(pd.to_datetime)\n",
    "df[[\"DT End\"]] = df[[\"UTC end\"]].apply(pd.to_datetime)"
   ]
  },
  {
   "cell_type": "code",
   "execution_count": 215,
   "id": "6bcd9b1f",
   "metadata": {},
   "outputs": [
    {
     "data": {
      "text/html": [
       "<div>\n",
       "<style scoped>\n",
       "    .dataframe tbody tr th:only-of-type {\n",
       "        vertical-align: middle;\n",
       "    }\n",
       "\n",
       "    .dataframe tbody tr th {\n",
       "        vertical-align: top;\n",
       "    }\n",
       "\n",
       "    .dataframe thead th {\n",
       "        text-align: right;\n",
       "    }\n",
       "</style>\n",
       "<table border=\"1\" class=\"dataframe\">\n",
       "  <thead>\n",
       "    <tr style=\"text-align: right;\">\n",
       "      <th></th>\n",
       "      <th>Username</th>\n",
       "      <th>time zone</th>\n",
       "      <th>UTC start</th>\n",
       "      <th>UTC end</th>\n",
       "      <th>Number</th>\n",
       "      <th>DT Start</th>\n",
       "      <th>DT End</th>\n",
       "    </tr>\n",
       "  </thead>\n",
       "  <tbody>\n",
       "    <tr>\n",
       "      <th>0</th>\n",
       "      <td>Bob</td>\n",
       "      <td>US/Pacific</td>\n",
       "      <td>11:00:00</td>\n",
       "      <td>12:00:00</td>\n",
       "      <td>19254836857</td>\n",
       "      <td>2021-07-13 11:00:00</td>\n",
       "      <td>2021-07-13 12:00:00</td>\n",
       "    </tr>\n",
       "    <tr>\n",
       "      <th>1</th>\n",
       "      <td>John</td>\n",
       "      <td>US/Pacific</td>\n",
       "      <td>16:00:00</td>\n",
       "      <td>22:00:00</td>\n",
       "      <td>19253393908</td>\n",
       "      <td>2021-07-13 16:00:00</td>\n",
       "      <td>2021-07-13 22:00:00</td>\n",
       "    </tr>\n",
       "    <tr>\n",
       "      <th>2</th>\n",
       "      <td>Daniel</td>\n",
       "      <td>US/Pacific</td>\n",
       "      <td>10:00:00</td>\n",
       "      <td>23:00:00</td>\n",
       "      <td>19258609793</td>\n",
       "      <td>2021-07-13 10:00:00</td>\n",
       "      <td>2021-07-13 23:00:00</td>\n",
       "    </tr>\n",
       "    <tr>\n",
       "      <th>3</th>\n",
       "      <td>Kelly</td>\n",
       "      <td>US/Eastern</td>\n",
       "      <td>14:00:00</td>\n",
       "      <td>16:00:00</td>\n",
       "      <td>16613738068</td>\n",
       "      <td>2021-07-13 14:00:00</td>\n",
       "      <td>2021-07-13 16:00:00</td>\n",
       "    </tr>\n",
       "  </tbody>\n",
       "</table>\n",
       "</div>"
      ],
      "text/plain": [
       "  Username   time zone UTC start   UTC end       Number            DT Start  \\\n",
       "0      Bob  US/Pacific  11:00:00  12:00:00  19254836857 2021-07-13 11:00:00   \n",
       "1     John  US/Pacific  16:00:00  22:00:00  19253393908 2021-07-13 16:00:00   \n",
       "2   Daniel  US/Pacific  10:00:00  23:00:00  19258609793 2021-07-13 10:00:00   \n",
       "3    Kelly  US/Eastern  14:00:00  16:00:00  16613738068 2021-07-13 14:00:00   \n",
       "\n",
       "               DT End  \n",
       "0 2021-07-13 12:00:00  \n",
       "1 2021-07-13 22:00:00  \n",
       "2 2021-07-13 23:00:00  \n",
       "3 2021-07-13 16:00:00  "
      ]
     },
     "execution_count": 215,
     "metadata": {},
     "output_type": "execute_result"
    }
   ],
   "source": [
    "df.head()"
   ]
  },
  {
   "cell_type": "code",
   "execution_count": 216,
   "id": "21b257b7",
   "metadata": {},
   "outputs": [
    {
     "data": {
      "text/plain": [
       "datetime.datetime(2021, 7, 13, 20, 34, 28, 632734)"
      ]
     },
     "execution_count": 216,
     "metadata": {},
     "output_type": "execute_result"
    }
   ],
   "source": [
    "now_utc = datetime.utcnow()\n",
    "now_utc"
   ]
  },
  {
   "cell_type": "code",
   "execution_count": 217,
   "id": "9ece29ba",
   "metadata": {},
   "outputs": [
    {
     "data": {
      "text/html": [
       "<div>\n",
       "<style scoped>\n",
       "    .dataframe tbody tr th:only-of-type {\n",
       "        vertical-align: middle;\n",
       "    }\n",
       "\n",
       "    .dataframe tbody tr th {\n",
       "        vertical-align: top;\n",
       "    }\n",
       "\n",
       "    .dataframe thead th {\n",
       "        text-align: right;\n",
       "    }\n",
       "</style>\n",
       "<table border=\"1\" class=\"dataframe\">\n",
       "  <thead>\n",
       "    <tr style=\"text-align: right;\">\n",
       "      <th></th>\n",
       "      <th>Username</th>\n",
       "      <th>time zone</th>\n",
       "      <th>UTC start</th>\n",
       "      <th>UTC end</th>\n",
       "      <th>Number</th>\n",
       "      <th>DT Start</th>\n",
       "      <th>DT End</th>\n",
       "    </tr>\n",
       "  </thead>\n",
       "  <tbody>\n",
       "    <tr>\n",
       "      <th>1</th>\n",
       "      <td>John</td>\n",
       "      <td>US/Pacific</td>\n",
       "      <td>16:00:00</td>\n",
       "      <td>22:00:00</td>\n",
       "      <td>19253393908</td>\n",
       "      <td>2021-07-13 16:00:00</td>\n",
       "      <td>2021-07-13 22:00:00</td>\n",
       "    </tr>\n",
       "    <tr>\n",
       "      <th>2</th>\n",
       "      <td>Daniel</td>\n",
       "      <td>US/Pacific</td>\n",
       "      <td>10:00:00</td>\n",
       "      <td>23:00:00</td>\n",
       "      <td>19258609793</td>\n",
       "      <td>2021-07-13 10:00:00</td>\n",
       "      <td>2021-07-13 23:00:00</td>\n",
       "    </tr>\n",
       "  </tbody>\n",
       "</table>\n",
       "</div>"
      ],
      "text/plain": [
       "  Username   time zone UTC start   UTC end       Number            DT Start  \\\n",
       "1     John  US/Pacific  16:00:00  22:00:00  19253393908 2021-07-13 16:00:00   \n",
       "2   Daniel  US/Pacific  10:00:00  23:00:00  19258609793 2021-07-13 10:00:00   \n",
       "\n",
       "               DT End  \n",
       "1 2021-07-13 22:00:00  \n",
       "2 2021-07-13 23:00:00  "
      ]
     },
     "execution_count": 217,
     "metadata": {},
     "output_type": "execute_result"
    }
   ],
   "source": [
    "#tz = TimeZoneHelper(number)\n",
    "tz = \"US/Pacific\"\n",
    "mask = (df['DT Start'] < now_utc) & (df['DT End'] >= now_utc) & (df['time zone'] == tz)\n",
    "result = df.loc[mask]\n",
    "result"
   ]
  },
  {
   "cell_type": "code",
   "execution_count": 220,
   "id": "7c6602e9",
   "metadata": {},
   "outputs": [
    {
     "data": {
      "text/html": [
       "<div>\n",
       "<style scoped>\n",
       "    .dataframe tbody tr th:only-of-type {\n",
       "        vertical-align: middle;\n",
       "    }\n",
       "\n",
       "    .dataframe tbody tr th {\n",
       "        vertical-align: top;\n",
       "    }\n",
       "\n",
       "    .dataframe thead th {\n",
       "        text-align: right;\n",
       "    }\n",
       "</style>\n",
       "<table border=\"1\" class=\"dataframe\">\n",
       "  <thead>\n",
       "    <tr style=\"text-align: right;\">\n",
       "      <th></th>\n",
       "      <th>Username</th>\n",
       "      <th>time zone</th>\n",
       "      <th>UTC start</th>\n",
       "      <th>UTC end</th>\n",
       "      <th>Number</th>\n",
       "      <th>DT Start</th>\n",
       "      <th>DT End</th>\n",
       "    </tr>\n",
       "  </thead>\n",
       "  <tbody>\n",
       "    <tr>\n",
       "      <th>1</th>\n",
       "      <td>John</td>\n",
       "      <td>US/Pacific</td>\n",
       "      <td>16:00:00</td>\n",
       "      <td>22:00:00</td>\n",
       "      <td>19253393908</td>\n",
       "      <td>2021-07-13 16:00:00</td>\n",
       "      <td>2021-07-13 22:00:00</td>\n",
       "    </tr>\n",
       "  </tbody>\n",
       "</table>\n",
       "</div>"
      ],
      "text/plain": [
       "  Username   time zone UTC start   UTC end       Number            DT Start  \\\n",
       "1     John  US/Pacific  16:00:00  22:00:00  19253393908 2021-07-13 16:00:00   \n",
       "\n",
       "               DT End  \n",
       "1 2021-07-13 22:00:00  "
      ]
     },
     "execution_count": 220,
     "metadata": {},
     "output_type": "execute_result"
    }
   ],
   "source": [
    "match = result.head(1)\n",
    "match"
   ]
  },
  {
   "cell_type": "code",
   "execution_count": 221,
   "id": "c448d2ea",
   "metadata": {},
   "outputs": [
    {
     "data": {
      "text/plain": [
       "1    19253393908\n",
       "Name: Number, dtype: int64"
      ]
     },
     "execution_count": 221,
     "metadata": {},
     "output_type": "execute_result"
    }
   ],
   "source": [
    "match[\"Number\"]"
   ]
  },
  {
   "cell_type": "code",
   "execution_count": null,
   "id": "8de4cff8",
   "metadata": {},
   "outputs": [],
   "source": []
  }
 ],
 "metadata": {
  "kernelspec": {
   "display_name": "Python 3",
   "language": "python",
   "name": "python3"
  },
  "language_info": {
   "codemirror_mode": {
    "name": "ipython",
    "version": 3
   },
   "file_extension": ".py",
   "mimetype": "text/x-python",
   "name": "python",
   "nbconvert_exporter": "python",
   "pygments_lexer": "ipython3",
   "version": "3.7.4"
  }
 },
 "nbformat": 4,
 "nbformat_minor": 5
}
